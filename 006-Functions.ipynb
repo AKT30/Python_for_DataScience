{
 "cells": [
  {
   "cell_type": "code",
   "execution_count": 2,
   "id": "265046ee",
   "metadata": {},
   "outputs": [
    {
     "name": "stdout",
     "output_type": "stream",
     "text": [
      "Hello\n"
     ]
    }
   ],
   "source": [
    "def say_hello():\n",
    "    print('Hello')\n",
    "say_hello()"
   ]
  },
  {
   "cell_type": "code",
   "execution_count": 4,
   "id": "b58f3092",
   "metadata": {},
   "outputs": [
    {
     "name": "stdout",
     "output_type": "stream",
     "text": [
      "23.437499999999996\n"
     ]
    }
   ],
   "source": [
    "def calculate_bmi(weight, height):\n",
    "    print(weight/(height*height))\n",
    "calculate_bmi(60, 1.6)"
   ]
  },
  {
   "cell_type": "code",
   "execution_count": 10,
   "id": "33af7449",
   "metadata": {},
   "outputs": [
    {
     "name": "stdout",
     "output_type": "stream",
     "text": [
      "58\n",
      "60\n",
      "55\n"
     ]
    }
   ],
   "source": [
    "students = {58:1.5 , 60:1.6 , 55:1.7}\n",
    "for s in students:\n",
    "    print(s)"
   ]
  },
  {
   "cell_type": "code",
   "execution_count": 9,
   "id": "5eabf6d3",
   "metadata": {},
   "outputs": [
    {
     "name": "stdout",
     "output_type": "stream",
     "text": [
      "1.5\n",
      "1.6\n",
      "1.7\n"
     ]
    }
   ],
   "source": [
    "students = {58:1.5 , 60:1.6 , 55:1.7}\n",
    "for s in students:\n",
    "    print(students[s])"
   ]
  },
  {
   "cell_type": "code",
   "execution_count": 11,
   "id": "2613414a",
   "metadata": {},
   "outputs": [
    {
     "name": "stdout",
     "output_type": "stream",
     "text": [
      "65 2.1\n"
     ]
    }
   ],
   "source": [
    "def change_values(weight, height):\n",
    "    weight = weight + 5\n",
    "    height = height + 0.5\n",
    "    return weight, height\n",
    "new_weight, new_height = change_values(60, 1.6)\n",
    "print(new_weight, new_height)"
   ]
  },
  {
   "cell_type": "code",
   "execution_count": 12,
   "id": "5a862563",
   "metadata": {},
   "outputs": [
    {
     "name": "stdout",
     "output_type": "stream",
     "text": [
      "10\n"
     ]
    }
   ],
   "source": [
    "def variable_scope():\n",
    "    x = 10\n",
    "    return x\n",
    "print(variable_scope())"
   ]
  },
  {
   "cell_type": "code",
   "execution_count": 13,
   "id": "f0bf110d",
   "metadata": {},
   "outputs": [
    {
     "name": "stdout",
     "output_type": "stream",
     "text": [
      "10\n",
      "5\n"
     ]
    }
   ],
   "source": [
    "x = 5\n",
    "def variable_scope():\n",
    "    x = 10\n",
    "    return x\n",
    "print(variable_scope())\n",
    "print(x)"
   ]
  },
  {
   "cell_type": "code",
   "execution_count": null,
   "id": "958d9b1e",
   "metadata": {},
   "outputs": [],
   "source": []
  }
 ],
 "metadata": {
  "kernelspec": {
   "display_name": "Python 3 (ipykernel)",
   "language": "python",
   "name": "python3"
  },
  "language_info": {
   "codemirror_mode": {
    "name": "ipython",
    "version": 3
   },
   "file_extension": ".py",
   "mimetype": "text/x-python",
   "name": "python",
   "nbconvert_exporter": "python",
   "pygments_lexer": "ipython3",
   "version": "3.11.5"
  }
 },
 "nbformat": 4,
 "nbformat_minor": 5
}
