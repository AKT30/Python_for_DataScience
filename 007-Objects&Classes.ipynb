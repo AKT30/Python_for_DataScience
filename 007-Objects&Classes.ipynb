{
 "cells": [
  {
   "cell_type": "code",
   "execution_count": 1,
   "id": "7bca460d",
   "metadata": {},
   "outputs": [
    {
     "name": "stdout",
     "output_type": "stream",
     "text": [
      "<__main__.Car object at 0x000002382BBA5050>\n"
     ]
    }
   ],
   "source": [
    "class Car:\n",
    "    brand = 'Toyota'\n",
    "    def drive(self):\n",
    "        print(self.brand, 'Car is driving')\n",
    "my_new_car = Car()\n",
    "print(my_new_car)"
   ]
  },
  {
   "cell_type": "code",
   "execution_count": 2,
   "id": "337cad1a",
   "metadata": {},
   "outputs": [
    {
     "name": "stdout",
     "output_type": "stream",
     "text": [
      "Toyota Car is driving\n"
     ]
    }
   ],
   "source": [
    "my_new_car.drive()"
   ]
  },
  {
   "cell_type": "code",
   "execution_count": 3,
   "id": "d7d6e292",
   "metadata": {},
   "outputs": [
    {
     "name": "stdout",
     "output_type": "stream",
     "text": [
      "<__main__.Car object at 0x000002382BBA5050>\n"
     ]
    }
   ],
   "source": [
    "print(my_new_car)"
   ]
  },
  {
   "cell_type": "code",
   "execution_count": 4,
   "id": "c38c5f00",
   "metadata": {},
   "outputs": [
    {
     "name": "stdout",
     "output_type": "stream",
     "text": [
      "Toyota\n"
     ]
    }
   ],
   "source": [
    "print(my_new_car.brand)"
   ]
  },
  {
   "cell_type": "code",
   "execution_count": 5,
   "id": "00f965e2",
   "metadata": {},
   "outputs": [
    {
     "name": "stdout",
     "output_type": "stream",
     "text": [
      "Toyota Car is driving\n"
     ]
    }
   ],
   "source": [
    "class Car:\n",
    "    def drive(self):\n",
    "        print(self.brand, 'Car is driving')\n",
    "my_new_car = Car()\n",
    "my_new_car.brand = 'Toyota'\n",
    "my_new_car.drive()"
   ]
  },
  {
   "cell_type": "code",
   "execution_count": 6,
   "id": "1c62dd3d",
   "metadata": {},
   "outputs": [
    {
     "name": "stdout",
     "output_type": "stream",
     "text": [
      "Toyota Car is driving\n"
     ]
    }
   ],
   "source": [
    "class Car:\n",
    "    def drive(self):\n",
    "        print(self.brand, 'Car is driving')\n",
    "    def get_speed(self):\n",
    "        print(self.speed, 'is top_speed')\n",
    "    def get_gear(self):\n",
    "        print(self.gear, 'gear')\n",
    "my_new_car = Car()\n",
    "my_new_car.brand = 'Toyota'\n",
    "my_new_car.drive()"
   ]
  },
  {
   "cell_type": "code",
   "execution_count": 8,
   "id": "2b8b0428",
   "metadata": {},
   "outputs": [
    {
     "name": "stdout",
     "output_type": "stream",
     "text": [
      "Toyota Car is driving\n"
     ]
    }
   ],
   "source": [
    "Toyota = Car()\n",
    "Toyota.brand = 'Toyota'\n",
    "Toyota.speed = 150\n",
    "Toyota.gear = 'Auto'\n",
    "Toyota.drive()"
   ]
  },
  {
   "cell_type": "code",
   "execution_count": 9,
   "id": "89873139",
   "metadata": {},
   "outputs": [
    {
     "name": "stdout",
     "output_type": "stream",
     "text": [
      "150 is top_speed\n"
     ]
    }
   ],
   "source": [
    "Toyota.get_speed()"
   ]
  },
  {
   "cell_type": "code",
   "execution_count": 10,
   "id": "3f34663c",
   "metadata": {},
   "outputs": [
    {
     "name": "stdout",
     "output_type": "stream",
     "text": [
      "Auto gear\n"
     ]
    }
   ],
   "source": [
    "Toyota.get_gear()"
   ]
  },
  {
   "cell_type": "code",
   "execution_count": 2,
   "id": "23002d4d",
   "metadata": {},
   "outputs": [
    {
     "name": "stdout",
     "output_type": "stream",
     "text": [
      "I made a new car   Nissan Red 140 Auto\n"
     ]
    }
   ],
   "source": [
    "class SuperCar:\n",
    "    def __init__(self, brand, color, speed, gear):\n",
    "        self.brand = brand\n",
    "        self.color = color\n",
    "        self.speed = speed\n",
    "        self.gear = gear\n",
    "        \n",
    "    def make_car(self):\n",
    "        print('I made a new car  ', self.brand, self.color, self.speed, self.gear)\n",
    "    def drive(self):\n",
    "        print(self.brand, 'Car is driving')\n",
    "    def get_speed(self):\n",
    "        print(self.speed, 'is top_speed')\n",
    "    def get_gear(self):\n",
    "        print(self.gear, 'gear')\n",
    "        \n",
    "Nissan = SuperCar('Nissan', 'Red', '140', 'Auto')\n",
    "Nissan.make_car()"
   ]
  },
  {
   "cell_type": "code",
   "execution_count": 4,
   "id": "05b051dd",
   "metadata": {},
   "outputs": [
    {
     "name": "stdout",
     "output_type": "stream",
     "text": [
      "<__main__.SuperCar object at 0x00000269C14D6E50>\n"
     ]
    }
   ],
   "source": [
    "bmw = SuperCar('BMW', 'Black', '200', 'Manual')\n",
    "print(bmw)"
   ]
  },
  {
   "cell_type": "code",
   "execution_count": 5,
   "id": "67779f49",
   "metadata": {},
   "outputs": [
    {
     "name": "stdout",
     "output_type": "stream",
     "text": [
      "I made a new car   BMW Black 200 Manual\n"
     ]
    }
   ],
   "source": [
    "bmw.make_car()"
   ]
  },
  {
   "cell_type": "code",
   "execution_count": 6,
   "id": "aa03bceb",
   "metadata": {},
   "outputs": [
    {
     "name": "stdout",
     "output_type": "stream",
     "text": [
      "140 is top_speed\n"
     ]
    }
   ],
   "source": [
    "Nissan.get_speed()"
   ]
  },
  {
   "cell_type": "code",
   "execution_count": 7,
   "id": "4930dc4e",
   "metadata": {},
   "outputs": [
    {
     "name": "stdout",
     "output_type": "stream",
     "text": [
      "200 is top_speed\n"
     ]
    }
   ],
   "source": [
    "bmw.get_speed()"
   ]
  },
  {
   "cell_type": "code",
   "execution_count": null,
   "id": "c54cd8e9",
   "metadata": {},
   "outputs": [],
   "source": []
  }
 ],
 "metadata": {
  "kernelspec": {
   "display_name": "Python 3 (ipykernel)",
   "language": "python",
   "name": "python3"
  },
  "language_info": {
   "codemirror_mode": {
    "name": "ipython",
    "version": 3
   },
   "file_extension": ".py",
   "mimetype": "text/x-python",
   "name": "python",
   "nbconvert_exporter": "python",
   "pygments_lexer": "ipython3",
   "version": "3.11.5"
  }
 },
 "nbformat": 4,
 "nbformat_minor": 5
}
