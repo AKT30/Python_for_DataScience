{
 "cells": [
  {
   "cell_type": "code",
   "execution_count": 8,
   "id": "77a7c04f-0116-4f17-91d3-748ddd9c9ee3",
   "metadata": {},
   "outputs": [
    {
     "data": {
      "text/plain": [
       "'Oil'"
      ]
     },
     "execution_count": 8,
     "metadata": {},
     "output_type": "execute_result"
    }
   ],
   "source": [
    "basket = ['Oil', 'Milk', 'Apple', 'Banana', 'Orange']\n",
    "basket[0]"
   ]
  },
  {
   "cell_type": "code",
   "execution_count": 2,
   "id": "91277dc4-647e-4b74-bd1c-3622ef9d25c8",
   "metadata": {},
   "outputs": [
    {
     "data": {
      "text/plain": [
       "'Apple'"
      ]
     },
     "execution_count": 2,
     "metadata": {},
     "output_type": "execute_result"
    }
   ],
   "source": [
    "basket[2]"
   ]
  },
  {
   "cell_type": "code",
   "execution_count": 3,
   "id": "8ba06d0c-f7cd-4e1d-b15d-498c1bb8096b",
   "metadata": {},
   "outputs": [
    {
     "data": {
      "text/plain": [
       "list"
      ]
     },
     "execution_count": 3,
     "metadata": {},
     "output_type": "execute_result"
    }
   ],
   "source": [
    "type(basket)"
   ]
  },
  {
   "cell_type": "code",
   "execution_count": 4,
   "id": "735e2bd5-0109-4e14-9aed-c8f6adfe7317",
   "metadata": {},
   "outputs": [
    {
     "data": {
      "text/plain": [
       "'Orange'"
      ]
     },
     "execution_count": 4,
     "metadata": {},
     "output_type": "execute_result"
    }
   ],
   "source": [
    "basket[-1]"
   ]
  },
  {
   "cell_type": "code",
   "execution_count": 5,
   "id": "bd464578-5a02-48ab-9cca-77317ca62ec5",
   "metadata": {},
   "outputs": [
    {
     "data": {
      "text/plain": [
       "True"
      ]
     },
     "execution_count": 5,
     "metadata": {},
     "output_type": "execute_result"
    }
   ],
   "source": [
    "'Orange' in basket"
   ]
  },
  {
   "cell_type": "code",
   "execution_count": 6,
   "id": "b617c9b6-242d-4791-abbb-614bead5a346",
   "metadata": {},
   "outputs": [
    {
     "data": {
      "text/plain": [
       "5"
      ]
     },
     "execution_count": 6,
     "metadata": {},
     "output_type": "execute_result"
    }
   ],
   "source": [
    "len(basket)"
   ]
  },
  {
   "cell_type": "code",
   "execution_count": 9,
   "id": "ecb8d633-88e4-4bb1-a82f-1dc156f4b33a",
   "metadata": {},
   "outputs": [
    {
     "data": {
      "text/plain": [
       "'Orange'"
      ]
     },
     "execution_count": 9,
     "metadata": {},
     "output_type": "execute_result"
    }
   ],
   "source": [
    "max(basket)"
   ]
  },
  {
   "cell_type": "code",
   "execution_count": 12,
   "id": "a4bc3c80-e2a6-4a92-bc20-4e6e8bb54b0a",
   "metadata": {},
   "outputs": [
    {
     "data": {
      "text/plain": [
       "['Oil', 'Milk', 'Apple', 'Banana', 'Orange', 'Coconut', 'Coconut', 'Coconut']"
      ]
     },
     "execution_count": 12,
     "metadata": {},
     "output_type": "execute_result"
    }
   ],
   "source": [
    "basket.append('Coconut')\n",
    "basket"
   ]
  },
  {
   "cell_type": "code",
   "execution_count": 14,
   "id": "2165cb51-263b-4d8c-87fb-897415fb2d30",
   "metadata": {},
   "outputs": [
    {
     "data": {
      "text/plain": [
       "'Coconut'"
      ]
     },
     "execution_count": 14,
     "metadata": {},
     "output_type": "execute_result"
    }
   ],
   "source": [
    "basket.pop()"
   ]
  },
  {
   "cell_type": "code",
   "execution_count": 1,
   "id": "39be19d9-223c-4363-8377-548fe1257546",
   "metadata": {},
   "outputs": [
    {
     "data": {
      "text/plain": [
       "('Volvo', 'Honda', 'Audi', 'BMW')"
      ]
     },
     "execution_count": 1,
     "metadata": {},
     "output_type": "execute_result"
    }
   ],
   "source": [
    "garage = ('Volvo', 'Honda', 'Audi', 'BMW')\n",
    "garage"
   ]
  },
  {
   "cell_type": "code",
   "execution_count": 2,
   "id": "87959da0-6c93-4db2-8877-37b7f0bb6d24",
   "metadata": {},
   "outputs": [
    {
     "data": {
      "text/plain": [
       "tuple"
      ]
     },
     "execution_count": 2,
     "metadata": {},
     "output_type": "execute_result"
    }
   ],
   "source": [
    "type(garage)"
   ]
  },
  {
   "cell_type": "code",
   "execution_count": 3,
   "id": "62c1f59e-affc-4086-90d6-dc4e0e86c33b",
   "metadata": {},
   "outputs": [
    {
     "name": "stdout",
     "output_type": "stream",
     "text": [
      "Volvo Honda\n"
     ]
    }
   ],
   "source": [
    "car1, car2, car3, car4 = garage\n",
    "print(car1 + ' ' + car2)"
   ]
  },
  {
   "cell_type": "code",
   "execution_count": 5,
   "id": "68b9b0ab-62d2-407b-b5c9-e544591c6981",
   "metadata": {},
   "outputs": [
    {
     "name": "stdout",
     "output_type": "stream",
     "text": [
      "['Volvo', 'Honda', 'Audi', 'BMW']\n"
     ]
    }
   ],
   "source": [
    "garage_list = list(garage)\n",
    "print(garage_list)"
   ]
  },
  {
   "cell_type": "code",
   "execution_count": null,
   "id": "3ea70ca3-ae43-4cc2-9bc2-a9fd42b09fe0",
   "metadata": {},
   "outputs": [],
   "source": []
  }
 ],
 "metadata": {
  "kernelspec": {
   "display_name": "Python 3 (ipykernel)",
   "language": "python",
   "name": "python3"
  },
  "language_info": {
   "codemirror_mode": {
    "name": "ipython",
    "version": 3
   },
   "file_extension": ".py",
   "mimetype": "text/x-python",
   "name": "python",
   "nbconvert_exporter": "python",
   "pygments_lexer": "ipython3",
   "version": "3.11.5"
  }
 },
 "nbformat": 4,
 "nbformat_minor": 5
}
