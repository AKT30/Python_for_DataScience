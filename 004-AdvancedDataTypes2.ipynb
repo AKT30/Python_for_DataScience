{
 "cells": [
  {
   "cell_type": "code",
   "execution_count": 2,
   "id": "afa3abf2-921b-463b-b13c-7765ebbed206",
   "metadata": {},
   "outputs": [
    {
     "data": {
      "text/plain": [
       "{1, 2, 3, 4, 5}"
      ]
     },
     "execution_count": 2,
     "metadata": {},
     "output_type": "execute_result"
    }
   ],
   "source": [
    "num_set = {1, 2, 3, 1, 4, 5}\n",
    "num_set"
   ]
  },
  {
   "cell_type": "code",
   "execution_count": 3,
   "id": "448816fe-c746-47a1-bf1d-fe0896d6dcf7",
   "metadata": {},
   "outputs": [
    {
     "data": {
      "text/plain": [
       "True"
      ]
     },
     "execution_count": 3,
     "metadata": {},
     "output_type": "execute_result"
    }
   ],
   "source": [
    "1 in num_set"
   ]
  },
  {
   "cell_type": "code",
   "execution_count": 4,
   "id": "8d0ad365-a030-47c5-b322-c12de087b55f",
   "metadata": {},
   "outputs": [
    {
     "data": {
      "text/plain": [
       "{1, 2, 3, 4, 5, 6}"
      ]
     },
     "execution_count": 4,
     "metadata": {},
     "output_type": "execute_result"
    }
   ],
   "source": [
    "num_set.add(6)\n",
    "num_set"
   ]
  },
  {
   "cell_type": "code",
   "execution_count": 5,
   "id": "5a897a67-771c-4a5c-9b0b-52cf98438e4c",
   "metadata": {},
   "outputs": [
    {
     "data": {
      "text/plain": [
       "{1, 2, 3, 4, 5, 6, 7, 8}"
      ]
     },
     "execution_count": 5,
     "metadata": {},
     "output_type": "execute_result"
    }
   ],
   "source": [
    "num_set.update([7,8])\n",
    "num_set"
   ]
  },
  {
   "cell_type": "code",
   "execution_count": 6,
   "id": "17d2f5eb-7beb-4b27-8c2d-f9d99d9d0bee",
   "metadata": {},
   "outputs": [
    {
     "data": {
      "text/plain": [
       "{'Child', 'Daddy', 'Daughter', 'Mommy', 'Son'}"
      ]
     },
     "execution_count": 6,
     "metadata": {},
     "output_type": "execute_result"
    }
   ],
   "source": [
    "male = {'Daddy', 'Son', 'Child'}\n",
    "female = {'Mommy', 'Daughter', 'Child'}\n",
    "Family = male.union(female)\n",
    "Family"
   ]
  },
  {
   "cell_type": "code",
   "execution_count": 7,
   "id": "8e279e3a-a98b-43f5-931f-f8ecb5355bf1",
   "metadata": {},
   "outputs": [
    {
     "data": {
      "text/plain": [
       "{'Child'}"
      ]
     },
     "execution_count": 7,
     "metadata": {},
     "output_type": "execute_result"
    }
   ],
   "source": [
    "common_item = male.intersection(female)\n",
    "common_item"
   ]
  },
  {
   "cell_type": "code",
   "execution_count": 8,
   "id": "4be6472f-6330-43b4-b8f5-529c35ba129b",
   "metadata": {},
   "outputs": [
    {
     "data": {
      "text/plain": [
       "{'jan': 31, 'feb': 28, 'march': 31, 'april': 30}"
      ]
     },
     "execution_count": 8,
     "metadata": {},
     "output_type": "execute_result"
    }
   ],
   "source": [
    "months = {'jan':31, 'feb':28, 'march':31, 'april':30}\n",
    "months"
   ]
  },
  {
   "cell_type": "code",
   "execution_count": 9,
   "id": "399fe4da-7679-4cab-84d7-ee2c0d999e60",
   "metadata": {},
   "outputs": [
    {
     "data": {
      "text/plain": [
       "28"
      ]
     },
     "execution_count": 9,
     "metadata": {},
     "output_type": "execute_result"
    }
   ],
   "source": [
    "months['feb']"
   ]
  },
  {
   "cell_type": "code",
   "execution_count": null,
   "id": "e415e26c-a0b8-44d3-bb7a-daabb333a7d5",
   "metadata": {},
   "outputs": [],
   "source": []
  }
 ],
 "metadata": {
  "kernelspec": {
   "display_name": "Python 3 (ipykernel)",
   "language": "python",
   "name": "python3"
  },
  "language_info": {
   "codemirror_mode": {
    "name": "ipython",
    "version": 3
   },
   "file_extension": ".py",
   "mimetype": "text/x-python",
   "name": "python",
   "nbconvert_exporter": "python",
   "pygments_lexer": "ipython3",
   "version": "3.11.5"
  }
 },
 "nbformat": 4,
 "nbformat_minor": 5
}
