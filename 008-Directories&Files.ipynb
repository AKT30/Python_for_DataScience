{
 "cells": [
  {
   "cell_type": "code",
   "execution_count": 1,
   "id": "862fd06d",
   "metadata": {},
   "outputs": [],
   "source": [
    "file_obj = open('myfile.txt', 'w')\n",
    "file_obj.write('City \\n')\n",
    "file_obj.close()"
   ]
  },
  {
   "cell_type": "code",
   "execution_count": 3,
   "id": "928cdc56",
   "metadata": {},
   "outputs": [],
   "source": [
    "file_obj = open('myfile.txt', 'w')\n",
    "L = [\"Yangon \\n\", \"Mandalay \\n\", \"Pyay \\n\"]\n",
    "file_obj.write('City \\n')\n",
    "file_obj.writelines(L)\n",
    "file_obj.close()"
   ]
  },
  {
   "cell_type": "code",
   "execution_count": 4,
   "id": "67fdc44d",
   "metadata": {},
   "outputs": [],
   "source": [
    "file_obj = open('myfile.txt', 'a')\n",
    "file_obj.write('Bago \\n')\n",
    "file_obj.write('Nay Pyi Taw \\n')\n",
    "file_obj.close()"
   ]
  },
  {
   "cell_type": "code",
   "execution_count": 5,
   "id": "1d0519c3",
   "metadata": {},
   "outputs": [
    {
     "name": "stdout",
     "output_type": "stream",
     "text": [
      "City \n",
      "Yangon \n",
      "Mandalay \n",
      "Pyay \n",
      "Bago \n",
      "Nay Pyi Taw \n",
      "\n"
     ]
    }
   ],
   "source": [
    "file_obj = open('myfile.txt', 'r')\n",
    "print(file_obj.read())\n",
    "file_obj.close()"
   ]
  },
  {
   "cell_type": "code",
   "execution_count": 6,
   "id": "2e5b385c",
   "metadata": {},
   "outputs": [
    {
     "name": "stdout",
     "output_type": "stream",
     "text": [
      "Ci\n"
     ]
    }
   ],
   "source": [
    "file_obj = open('myfile.txt', 'r')\n",
    "print(file_obj.read(2))\n",
    "file_obj.close()"
   ]
  },
  {
   "cell_type": "code",
   "execution_count": 7,
   "id": "7bbd9e39",
   "metadata": {},
   "outputs": [
    {
     "name": "stdout",
     "output_type": "stream",
     "text": [
      "City \n",
      "\n"
     ]
    }
   ],
   "source": [
    "file_obj = open('myfile.txt', 'r')\n",
    "print(file_obj.readline())\n",
    "file_obj.close()"
   ]
  },
  {
   "cell_type": "code",
   "execution_count": 8,
   "id": "d7282f80",
   "metadata": {},
   "outputs": [
    {
     "name": "stdout",
     "output_type": "stream",
     "text": [
      "['City \\n', 'Yangon \\n', 'Mandalay \\n', 'Pyay \\n', 'Bago \\n', 'Nay Pyi Taw \\n']\n"
     ]
    }
   ],
   "source": [
    "file_obj = open('myfile.txt', 'r')\n",
    "print(file_obj.readlines())\n",
    "file_obj.close()"
   ]
  },
  {
   "cell_type": "code",
   "execution_count": 15,
   "id": "e715e6a2",
   "metadata": {},
   "outputs": [
    {
     "name": "stdout",
     "output_type": "stream",
     "text": [
      "City \n",
      "Yangon \n",
      "Mandalay \n",
      "Pyay \n",
      "\n"
     ]
    }
   ],
   "source": [
    "file_obj = open('myfile.txt', 'w+')\n",
    "L = [\"Yangon \\n\", \"Mandalay \\n\", \"Pyay \\n\"]\n",
    "file_obj.write('City \\n')\n",
    "file_obj.writelines(L)\n",
    "file_obj.seek(0)\n",
    "print(file_obj.read())\n",
    "file_obj.close()"
   ]
  },
  {
   "cell_type": "code",
   "execution_count": 16,
   "id": "7c063434",
   "metadata": {},
   "outputs": [
    {
     "name": "stdout",
     "output_type": "stream",
     "text": [
      "City \n",
      "Yangon \n",
      "Mandalay \n",
      "Pyay \n",
      "\n"
     ]
    }
   ],
   "source": [
    "file_obj = open('myfile.txt', 'r+')\n",
    "print(file_obj.read())\n",
    "L = [\"Yangon \\n\", \"Mandalay \\n\", \"Pyay \\n\"]\n",
    "file_obj.write('City \\n')\n",
    "file_obj.writelines(L)\n",
    "file_obj.close()"
   ]
  },
  {
   "cell_type": "code",
   "execution_count": null,
   "id": "d419f4b2",
   "metadata": {},
   "outputs": [],
   "source": []
  }
 ],
 "metadata": {
  "kernelspec": {
   "display_name": "Python 3 (ipykernel)",
   "language": "python",
   "name": "python3"
  },
  "language_info": {
   "codemirror_mode": {
    "name": "ipython",
    "version": 3
   },
   "file_extension": ".py",
   "mimetype": "text/x-python",
   "name": "python",
   "nbconvert_exporter": "python",
   "pygments_lexer": "ipython3",
   "version": "3.11.5"
  }
 },
 "nbformat": 4,
 "nbformat_minor": 5
}
