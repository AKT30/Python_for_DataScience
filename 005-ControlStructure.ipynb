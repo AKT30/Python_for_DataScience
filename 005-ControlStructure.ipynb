{
 "cells": [
  {
   "cell_type": "code",
   "execution_count": 2,
   "id": "3ffed28b-4f7d-452d-85bf-c5c8dd038634",
   "metadata": {},
   "outputs": [
    {
     "name": "stdout",
     "output_type": "stream",
     "text": [
      "Degree\n"
     ]
    }
   ],
   "source": [
    "student = 'matric pass'\n",
    "if student == 'matric pass':\n",
    "    next_course = 'Degree'\n",
    "print(next_course)"
   ]
  },
  {
   "cell_type": "code",
   "execution_count": 3,
   "id": "9d1d3711-a897-4544-819e-e19c8054ee7c",
   "metadata": {},
   "outputs": [
    {
     "name": "stdout",
     "output_type": "stream",
     "text": [
      "Other\n"
     ]
    }
   ],
   "source": [
    "student = 'failed'\n",
    "if student == 'matric pass':\n",
    "    next_course = 'Degree'\n",
    "else:\n",
    "    next_course = 'Other'\n",
    "print(next_course)"
   ]
  },
  {
   "cell_type": "code",
   "execution_count": 4,
   "id": "c3f44376-c47e-4c94-be8d-0adb67424e73",
   "metadata": {},
   "outputs": [
    {
     "name": "stdout",
     "output_type": "stream",
     "text": [
      "Other\n"
     ]
    }
   ],
   "source": [
    "student = 'failed'\n",
    "if student == 'matric pass':\n",
    "    next_course = 'Degree'\n",
    "elif student == 'Degree pass':\n",
    "    next_course = 'Master'\n",
    "elif student == 'Master pass':\n",
    "    next_course = 'Ph.D'\n",
    "else:\n",
    "    next_course = 'Other'\n",
    "print(next_course)"
   ]
  },
  {
   "cell_type": "code",
   "execution_count": 5,
   "id": "f8e41bc0-e1e5-4924-8ce2-d4d24f6f844d",
   "metadata": {},
   "outputs": [
    {
     "name": "stdout",
     "output_type": "stream",
     "text": [
      "Master\n"
     ]
    }
   ],
   "source": [
    "student = 'Degree pass'\n",
    "if student == 'matric pass':\n",
    "    next_course = 'Degree'\n",
    "elif student == 'Degree pass':\n",
    "    next_course = 'Master'\n",
    "elif student == 'Master pass':\n",
    "    next_course = 'Ph.D'\n",
    "else:\n",
    "    next_course = 'Other'\n",
    "print(next_course)"
   ]
  },
  {
   "cell_type": "code",
   "execution_count": 6,
   "id": "5bced50a-6f75-4da0-842a-2ece2743b137",
   "metadata": {},
   "outputs": [
    {
     "name": "stdout",
     "output_type": "stream",
     "text": [
      "Credit\n"
     ]
    }
   ],
   "source": [
    "mark = 65\n",
    "rank = 'None'\n",
    "if mark > 59 and mark <80:\n",
    "    rank = 'Credit'\n",
    "\n",
    "print(rank)"
   ]
  },
  {
   "cell_type": "code",
   "execution_count": 7,
   "id": "863cb8f7-5f6c-45f2-a282-fabd32a8c6fc",
   "metadata": {},
   "outputs": [
    {
     "name": "stdout",
     "output_type": "stream",
     "text": [
      "English\n",
      "Maths\n",
      "Science\n",
      "Social\n"
     ]
    }
   ],
   "source": [
    "subjects = ['English', 'Maths', 'Science', 'Social']\n",
    "for subject in subjects:\n",
    "    print(subject)"
   ]
  },
  {
   "cell_type": "code",
   "execution_count": 8,
   "id": "6bbd019c-0fda-4de7-b8a4-a89a40e754a6",
   "metadata": {},
   "outputs": [
    {
     "name": "stdout",
     "output_type": "stream",
     "text": [
      "Data\n",
      "Data\n",
      "Data\n",
      "Data\n",
      "Data\n"
     ]
    }
   ],
   "source": [
    "for i in range(5):\n",
    "    print('Data')"
   ]
  },
  {
   "cell_type": "code",
   "execution_count": 9,
   "id": "d45fd056-db9d-4303-a433-45d65da00d99",
   "metadata": {},
   "outputs": [
    {
     "name": "stdout",
     "output_type": "stream",
     "text": [
      "0\n",
      "1\n",
      "2\n",
      "3\n"
     ]
    }
   ],
   "source": [
    "for i in range(len(subjects)):\n",
    "    print(i)"
   ]
  },
  {
   "cell_type": "code",
   "execution_count": 10,
   "id": "49f10e59-aff3-4c96-b459-2fe78c8c9648",
   "metadata": {},
   "outputs": [
    {
     "name": "stdout",
     "output_type": "stream",
     "text": [
      "English\n",
      "Maths\n",
      "Science\n",
      "Social\n"
     ]
    }
   ],
   "source": [
    "for i in range(len(subjects)):\n",
    "    print(subjects[i])"
   ]
  },
  {
   "cell_type": "code",
   "execution_count": 12,
   "id": "18de27a2-9bf1-4636-8245-9e498539d21f",
   "metadata": {},
   "outputs": [
    {
     "name": "stdout",
     "output_type": "stream",
     "text": [
      "['ENGLISH', 'MATHS', 'SCIENCE', 'SOCIAL']\n"
     ]
    }
   ],
   "source": [
    "cap_subjects = []\n",
    "for subject in subjects:\n",
    "    cap_subjects.append(subject.upper())\n",
    "\n",
    "print(cap_subjects)"
   ]
  },
  {
   "cell_type": "code",
   "execution_count": 13,
   "id": "d8ba387c-d5d0-445d-990b-34e375d921a8",
   "metadata": {},
   "outputs": [
    {
     "name": "stdout",
     "output_type": "stream",
     "text": [
      "0\n",
      "10\n",
      "20\n",
      "30\n",
      "40\n",
      "50\n",
      "60\n",
      "70\n",
      "Not less than 80\n",
      "80\n"
     ]
    }
   ],
   "source": [
    "score = 0\n",
    "\n",
    "while score < 80:\n",
    "    print(score)\n",
    "    score = score + 10\n",
    "\n",
    "print('Not less than 80')\n",
    "print(score)"
   ]
  },
  {
   "cell_type": "code",
   "execution_count": 14,
   "id": "28e7a126-68c4-446b-9006-3d7b4bfefab5",
   "metadata": {},
   "outputs": [
    {
     "name": "stdout",
     "output_type": "stream",
     "text": [
      "10\n",
      "20\n",
      "30\n",
      "40\n",
      "Exit before 80\n"
     ]
    }
   ],
   "source": [
    "score = 0\n",
    "\n",
    "while score < 80:\n",
    "    score = score + 10\n",
    "    if score > 40:\n",
    "        break\n",
    "    print(score)\n",
    "\n",
    "print(\"Exit before 80\")"
   ]
  },
  {
   "cell_type": "code",
   "execution_count": 15,
   "id": "5df0a886-b227-458c-8fc5-6b671fd4f192",
   "metadata": {},
   "outputs": [
    {
     "name": "stdout",
     "output_type": "stream",
     "text": [
      "3\n",
      "9\n",
      "15\n",
      "21\n",
      "27\n",
      "Loop End\n"
     ]
    }
   ],
   "source": [
    "score = 0\n",
    "\n",
    "while score < 30:\n",
    "    score = score + 3\n",
    "    if score%2 !=0:\n",
    "        print(score)\n",
    "        continue\n",
    "\n",
    "print(\"Loop End\")"
   ]
  },
  {
   "cell_type": "code",
   "execution_count": null,
   "id": "5d3f85cc-ba46-4103-9b4e-842ad14d1ac4",
   "metadata": {},
   "outputs": [],
   "source": []
  }
 ],
 "metadata": {
  "kernelspec": {
   "display_name": "Python 3 (ipykernel)",
   "language": "python",
   "name": "python3"
  },
  "language_info": {
   "codemirror_mode": {
    "name": "ipython",
    "version": 3
   },
   "file_extension": ".py",
   "mimetype": "text/x-python",
   "name": "python",
   "nbconvert_exporter": "python",
   "pygments_lexer": "ipython3",
   "version": "3.11.5"
  }
 },
 "nbformat": 4,
 "nbformat_minor": 5
}
