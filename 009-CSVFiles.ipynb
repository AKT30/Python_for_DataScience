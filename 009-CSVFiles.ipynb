{
 "cells": [
  {
   "cell_type": "code",
   "execution_count": 7,
   "id": "f02c394b",
   "metadata": {},
   "outputs": [
    {
     "name": "stdout",
     "output_type": "stream",
     "text": [
      "<_csv.reader object at 0x0000020BA9D66860>\n",
      "['name', ' department', ' salary']\n",
      "[['Soe Soe', ' Engineering', ' 250000'], ['Ko Ko', ' IT', ' 300000'], ['Mg Mg', ' Finance', ' 200000'], ['Hla Hla', ' HR', ' 150000']]\n"
     ]
    }
   ],
   "source": [
    "import csv\n",
    "rows = []\n",
    "with open(\"xyz_ltd.csv\") as csv_file:\n",
    "    csv_reader = csv.reader(csv_file)\n",
    "    fields = next(csv_reader)\n",
    "    for row in csv_reader:\n",
    "        rows.append(row)\n",
    "print(csv_reader)\n",
    "print(fields)\n",
    "print(rows)"
   ]
  },
  {
   "cell_type": "code",
   "execution_count": 8,
   "id": "0c85139a",
   "metadata": {},
   "outputs": [
    {
     "name": "stdout",
     "output_type": "stream",
     "text": [
      "['Soe Soe', ' Engineering', ' 250000']\n",
      "['Ko Ko', ' IT', ' 300000']\n",
      "['Mg Mg', ' Finance', ' 200000']\n",
      "['Hla Hla', ' HR', ' 150000']\n"
     ]
    }
   ],
   "source": [
    "for r in rows:\n",
    "    print(r)"
   ]
  },
  {
   "cell_type": "code",
   "execution_count": 9,
   "id": "147b9b1f",
   "metadata": {},
   "outputs": [
    {
     "name": "stdout",
     "output_type": "stream",
     "text": [
      "Soe Soe  Engineering  250000\n",
      "Ko Ko  IT  300000\n",
      "Mg Mg  Finance  200000\n",
      "Hla Hla  HR  150000\n"
     ]
    }
   ],
   "source": [
    "for r in rows:\n",
    "    print(r[0], r[1], r[2])"
   ]
  },
  {
   "cell_type": "code",
   "execution_count": 11,
   "id": "6a88e64f",
   "metadata": {},
   "outputs": [],
   "source": [
    "header = ['Name', 'Department', 'Salary']\n",
    "data = [['Aung Aung', 'Finance', '200000'], ['Ni Ni', 'HR', '150000']]\n",
    "\n",
    "with open('abc_ltd.csv', mode='w', newline='') as csv_file:\n",
    "    csv_writer = csv.writer(csv_file)\n",
    "    csv_writer.writerow(header)\n",
    "    csv_writer.writerow(['Win Win', 'Engineering', '250000'])\n",
    "    csv_writer.writerows(data)"
   ]
  },
  {
   "cell_type": "code",
   "execution_count": 12,
   "id": "476fa1d6",
   "metadata": {},
   "outputs": [],
   "source": [
    "more_data = [['Maung Ba', 'Finance', '200000'], ['Maung Hla', 'HR', '150000']]\n",
    "\n",
    "with open('abc_ltd.csv', mode='a', newline='') as csv_file:\n",
    "    csv_writer = csv.writer(csv_file)\n",
    "    csv_writer.writerows(more_data)"
   ]
  },
  {
   "cell_type": "code",
   "execution_count": 16,
   "id": "3be8fa63",
   "metadata": {},
   "outputs": [],
   "source": [
    "heading = ['Name', 'Department', 'Salary']\n",
    "\n",
    "with open('dict_format.csv', mode='w', newline='') as csv_file:\n",
    "    csv_writer = csv.DictWriter(csv_file, fieldnames=heading)\n",
    "    csv_writer.writeheader()\n",
    "    csv_writer.writerow({'Name':'Kyi Kyi', 'Department':'Fianace', 'Salary':'200000'})\n",
    "    csv_writer.writerow({'Name':'Mu Mu', 'Department':'HR', 'Salary':'150000'})"
   ]
  },
  {
   "cell_type": "code",
   "execution_count": 17,
   "id": "51823edd",
   "metadata": {},
   "outputs": [
    {
     "name": "stdout",
     "output_type": "stream",
     "text": [
      "<_csv.reader object at 0x0000020BA9FFBC40>\n",
      "['Name', 'Department', 'Salary']\n",
      "[['Kyi Kyi', 'Fianace', '200000'], ['Mu Mu', 'HR', '150000']]\n"
     ]
    }
   ],
   "source": [
    "import csv\n",
    "rows = []\n",
    "with open(\"dict_format.csv\") as csv_file:\n",
    "    csv_reader = csv.reader(csv_file)\n",
    "    fields = next(csv_reader)\n",
    "    for row in csv_reader:\n",
    "        rows.append(row)\n",
    "print(csv_reader)\n",
    "print(fields)\n",
    "print(rows)"
   ]
  },
  {
   "cell_type": "code",
   "execution_count": null,
   "id": "04ee319c",
   "metadata": {},
   "outputs": [],
   "source": []
  }
 ],
 "metadata": {
  "kernelspec": {
   "display_name": "Python 3 (ipykernel)",
   "language": "python",
   "name": "python3"
  },
  "language_info": {
   "codemirror_mode": {
    "name": "ipython",
    "version": 3
   },
   "file_extension": ".py",
   "mimetype": "text/x-python",
   "name": "python",
   "nbconvert_exporter": "python",
   "pygments_lexer": "ipython3",
   "version": "3.11.5"
  }
 },
 "nbformat": 4,
 "nbformat_minor": 5
}
